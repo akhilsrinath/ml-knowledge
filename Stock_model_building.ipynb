{
  "nbformat": 4,
  "nbformat_minor": 0,
  "metadata": {
    "colab": {
      "name": "Stock-model-building.ipynb",
      "provenance": [],
      "include_colab_link": true
    },
    "kernelspec": {
      "name": "python3",
      "display_name": "Python 3"
    },
    "language_info": {
      "name": "python"
    }
  },
  "cells": [
    {
      "cell_type": "markdown",
      "metadata": {
        "id": "view-in-github",
        "colab_type": "text"
      },
      "source": [
        "<a href=\"https://colab.research.google.com/github/akhilsrinath/ml-poc/blob/master/Stock_model_building.ipynb\" target=\"_parent\"><img src=\"https://colab.research.google.com/assets/colab-badge.svg\" alt=\"Open In Colab\"/></a>"
      ]
    },
    {
      "cell_type": "markdown",
      "metadata": {
        "id": "kq7WswjdmOsr"
      },
      "source": [
        "# Data Collection\n",
        "\n",
        "First we want to get the data that we are going to work with"
      ]
    },
    {
      "cell_type": "code",
      "metadata": {
        "colab": {
          "base_uri": "https://localhost:8080/"
        },
        "id": "n0tICpX7rNuZ",
        "outputId": "bfdad537-732e-4bf4-80b0-487690f73e7d"
      },
      "source": [
        "!pip install yfinance"
      ],
      "execution_count": 1,
      "outputs": [
        {
          "output_type": "stream",
          "text": [
            "Collecting yfinance\n",
            "  Downloading https://files.pythonhosted.org/packages/a7/ee/315752b9ef281ba83c62aa7ec2e2074f85223da6e7e74efb4d3e11c0f510/yfinance-0.1.59.tar.gz\n",
            "Requirement already satisfied: pandas>=0.24 in /usr/local/lib/python3.7/dist-packages (from yfinance) (1.1.5)\n",
            "Requirement already satisfied: numpy>=1.15 in /usr/local/lib/python3.7/dist-packages (from yfinance) (1.19.5)\n",
            "Requirement already satisfied: requests>=2.20 in /usr/local/lib/python3.7/dist-packages (from yfinance) (2.23.0)\n",
            "Requirement already satisfied: multitasking>=0.0.7 in /usr/local/lib/python3.7/dist-packages (from yfinance) (0.0.9)\n",
            "Collecting lxml>=4.5.1\n",
            "\u001b[?25l  Downloading https://files.pythonhosted.org/packages/cf/4d/6537313bf58fe22b508f08cf3eb86b29b6f9edf68e00454224539421073b/lxml-4.6.3-cp37-cp37m-manylinux1_x86_64.whl (5.5MB)\n",
            "\u001b[K     |████████████████████████████████| 5.5MB 11.8MB/s \n",
            "\u001b[?25hRequirement already satisfied: python-dateutil>=2.7.3 in /usr/local/lib/python3.7/dist-packages (from pandas>=0.24->yfinance) (2.8.1)\n",
            "Requirement already satisfied: pytz>=2017.2 in /usr/local/lib/python3.7/dist-packages (from pandas>=0.24->yfinance) (2018.9)\n",
            "Requirement already satisfied: idna<3,>=2.5 in /usr/local/lib/python3.7/dist-packages (from requests>=2.20->yfinance) (2.10)\n",
            "Requirement already satisfied: urllib3!=1.25.0,!=1.25.1,<1.26,>=1.21.1 in /usr/local/lib/python3.7/dist-packages (from requests>=2.20->yfinance) (1.24.3)\n",
            "Requirement already satisfied: chardet<4,>=3.0.2 in /usr/local/lib/python3.7/dist-packages (from requests>=2.20->yfinance) (3.0.4)\n",
            "Requirement already satisfied: certifi>=2017.4.17 in /usr/local/lib/python3.7/dist-packages (from requests>=2.20->yfinance) (2020.12.5)\n",
            "Requirement already satisfied: six>=1.5 in /usr/local/lib/python3.7/dist-packages (from python-dateutil>=2.7.3->pandas>=0.24->yfinance) (1.15.0)\n",
            "Building wheels for collected packages: yfinance\n",
            "  Building wheel for yfinance (setup.py) ... \u001b[?25l\u001b[?25hdone\n",
            "  Created wheel for yfinance: filename=yfinance-0.1.59-py2.py3-none-any.whl size=23442 sha256=86541229b7a6dda69bfc0fcdf78a1863a31e45d2ed19132f8c19b060c9aa4023\n",
            "  Stored in directory: /root/.cache/pip/wheels/f8/2a/0f/4b5a86e1d52e451757eb6bc17fd899629f0925c777741b6d04\n",
            "Successfully built yfinance\n",
            "Installing collected packages: lxml, yfinance\n",
            "  Found existing installation: lxml 4.2.6\n",
            "    Uninstalling lxml-4.2.6:\n",
            "      Successfully uninstalled lxml-4.2.6\n",
            "Successfully installed lxml-4.6.3 yfinance-0.1.59\n"
          ],
          "name": "stdout"
        }
      ]
    },
    {
      "cell_type": "code",
      "metadata": {
        "id": "Rlu9ZlCPyxAr"
      },
      "source": [
        "# Import section\n",
        "import yfinance as yf\n",
        "import pandas as pd"
      ],
      "execution_count": 2,
      "outputs": []
    },
    {
      "cell_type": "code",
      "metadata": {
        "id": "h3W00447ykcY"
      },
      "source": [
        "def get_original_data(symbol):\n",
        "    # Get the data of the corresponding symbol (Company info, current price, etc)\n",
        "    stock_info = yf.Ticker(symbol)\n",
        "    print(stock_info)\n",
        "\n",
        "    # We want to get the historical stock information as a DataFrame\n",
        "    # -Period: you can use start-end or how far back in time do you want to get the data\n",
        "    # -Interval: time between observations\n",
        "    stock_df = stock_info.history(period='7d', interval='1m')\n",
        "\n",
        "    # We don't want to use the Dividends and Stock Splits, so we delete them\n",
        "    del stock_df['Dividends']\n",
        "    del stock_df['Stock Splits']\n",
        "    return stock_df\n"
      ],
      "execution_count": 3,
      "outputs": []
    },
    {
      "cell_type": "code",
      "metadata": {
        "id": "T6CeoUAVfbFi"
      },
      "source": [
        "# Creation of the labels we want to classify the problem in\n",
        "# if the Label has a value of 1, means that the next price is going to go up, so we want to buy the stock\n",
        "# if the Label has a value of 0, means that the next price is going to go down, so we want to sell the stock\n",
        "def get_labels(stock_df):\n",
        "    shifted_data = stock_df['Close'].shift(-1)\n",
        "    labels = []\n",
        "    for close, shifted in zip(stock_df['Close'], shifted_data):\n",
        "        if shifted >= close:\n",
        "            labels.append(1)\n",
        "        else:\n",
        "            labels.append(0)\n",
        "    stock_df['Labels'] = labels\n",
        "    return(stock_df)\n"
      ],
      "execution_count": 4,
      "outputs": []
    },
    {
      "cell_type": "code",
      "metadata": {
        "colab": {
          "base_uri": "https://localhost:8080/"
        },
        "id": "kMLImS3MmXqw",
        "outputId": "e2869bae-a61e-47fd-a9f7-0c929954ad31"
      },
      "source": [
        "if __name__ == '__main__':\n",
        "\n",
        "    # We need to define the symbol we want to get, lets start working with S&P 500 \n",
        "    symbol = 'SPY'\n",
        "    stock_df = get_original_data(symbol)\n",
        "    stock_df = get_labels(stock_df)\n",
        "\n",
        "    # More info about the data\n",
        "    print('We have a total of',stock_df.shape[0], 'observations')\n",
        "    print('with',stock_df.shape[1], 'features each wich are', stock_df.keys())\n",
        "\n",
        "    df = stock_df"
      ],
      "execution_count": 5,
      "outputs": [
        {
          "output_type": "stream",
          "text": [
            "yfinance.Ticker object <SPY>\n",
            "We have a total of 2726 observations\n",
            "with 6 features each wich are Index(['Open', 'High', 'Low', 'Close', 'Volume', 'Labels'], dtype='object')\n"
          ],
          "name": "stdout"
        }
      ]
    },
    {
      "cell_type": "code",
      "metadata": {
        "colab": {
          "base_uri": "https://localhost:8080/",
          "height": 235
        },
        "id": "E8Pv8KLHuCbO",
        "outputId": "fd76786d-d064-4eba-b7d3-1ae243b01c39"
      },
      "source": [
        "stock_df.head()"
      ],
      "execution_count": 6,
      "outputs": [
        {
          "output_type": "execute_result",
          "data": {
            "text/html": [
              "<div>\n",
              "<style scoped>\n",
              "    .dataframe tbody tr th:only-of-type {\n",
              "        vertical-align: middle;\n",
              "    }\n",
              "\n",
              "    .dataframe tbody tr th {\n",
              "        vertical-align: top;\n",
              "    }\n",
              "\n",
              "    .dataframe thead th {\n",
              "        text-align: right;\n",
              "    }\n",
              "</style>\n",
              "<table border=\"1\" class=\"dataframe\">\n",
              "  <thead>\n",
              "    <tr style=\"text-align: right;\">\n",
              "      <th></th>\n",
              "      <th>Open</th>\n",
              "      <th>High</th>\n",
              "      <th>Low</th>\n",
              "      <th>Close</th>\n",
              "      <th>Volume</th>\n",
              "      <th>Labels</th>\n",
              "    </tr>\n",
              "    <tr>\n",
              "      <th>Datetime</th>\n",
              "      <th></th>\n",
              "      <th></th>\n",
              "      <th></th>\n",
              "      <th></th>\n",
              "      <th></th>\n",
              "      <th></th>\n",
              "    </tr>\n",
              "  </thead>\n",
              "  <tbody>\n",
              "    <tr>\n",
              "      <th>2021-03-23 09:30:00-04:00</th>\n",
              "      <td>391.910004</td>\n",
              "      <td>391.950012</td>\n",
              "      <td>391.730011</td>\n",
              "      <td>391.755005</td>\n",
              "      <td>1541884</td>\n",
              "      <td>1</td>\n",
              "    </tr>\n",
              "    <tr>\n",
              "      <th>2021-03-23 09:31:00-04:00</th>\n",
              "      <td>391.760010</td>\n",
              "      <td>391.940002</td>\n",
              "      <td>391.559998</td>\n",
              "      <td>391.850006</td>\n",
              "      <td>334659</td>\n",
              "      <td>0</td>\n",
              "    </tr>\n",
              "    <tr>\n",
              "      <th>2021-03-23 09:32:00-04:00</th>\n",
              "      <td>391.850006</td>\n",
              "      <td>391.880005</td>\n",
              "      <td>391.630005</td>\n",
              "      <td>391.640015</td>\n",
              "      <td>306343</td>\n",
              "      <td>1</td>\n",
              "    </tr>\n",
              "    <tr>\n",
              "      <th>2021-03-23 09:33:00-04:00</th>\n",
              "      <td>391.640015</td>\n",
              "      <td>392.000000</td>\n",
              "      <td>391.630005</td>\n",
              "      <td>391.918915</td>\n",
              "      <td>237583</td>\n",
              "      <td>0</td>\n",
              "    </tr>\n",
              "    <tr>\n",
              "      <th>2021-03-23 09:34:00-04:00</th>\n",
              "      <td>391.915009</td>\n",
              "      <td>391.970001</td>\n",
              "      <td>391.809998</td>\n",
              "      <td>391.880005</td>\n",
              "      <td>155247</td>\n",
              "      <td>1</td>\n",
              "    </tr>\n",
              "  </tbody>\n",
              "</table>\n",
              "</div>"
            ],
            "text/plain": [
              "                                 Open        High  ...   Volume  Labels\n",
              "Datetime                                           ...                 \n",
              "2021-03-23 09:30:00-04:00  391.910004  391.950012  ...  1541884       1\n",
              "2021-03-23 09:31:00-04:00  391.760010  391.940002  ...   334659       0\n",
              "2021-03-23 09:32:00-04:00  391.850006  391.880005  ...   306343       1\n",
              "2021-03-23 09:33:00-04:00  391.640015  392.000000  ...   237583       0\n",
              "2021-03-23 09:34:00-04:00  391.915009  391.970001  ...   155247       1\n",
              "\n",
              "[5 rows x 6 columns]"
            ]
          },
          "metadata": {
            "tags": []
          },
          "execution_count": 6
        }
      ]
    },
    {
      "cell_type": "code",
      "metadata": {
        "id": "_3HsuolkuLKI"
      },
      "source": [
        "import pandas as pd \n",
        "import numpy as np \n",
        "from sklearn import preprocessing \n",
        "import matplotlib.pyplot as plt\n",
        "from sklearn.linear_model import LogisticRegression \n",
        "from sklearn.model_selection import train_test_split\n",
        "from sklearn.metrics import classification_report, confusion_matrix"
      ],
      "execution_count": 7,
      "outputs": []
    },
    {
      "cell_type": "code",
      "metadata": {
        "colab": {
          "base_uri": "https://localhost:8080/",
          "height": 297
        },
        "id": "gh5rUEVRu2E7",
        "outputId": "987be20a-a3bd-4ff1-c65b-3f707d7d9e2b"
      },
      "source": [
        "df.describe()"
      ],
      "execution_count": 8,
      "outputs": [
        {
          "output_type": "execute_result",
          "data": {
            "text/html": [
              "<div>\n",
              "<style scoped>\n",
              "    .dataframe tbody tr th:only-of-type {\n",
              "        vertical-align: middle;\n",
              "    }\n",
              "\n",
              "    .dataframe tbody tr th {\n",
              "        vertical-align: top;\n",
              "    }\n",
              "\n",
              "    .dataframe thead th {\n",
              "        text-align: right;\n",
              "    }\n",
              "</style>\n",
              "<table border=\"1\" class=\"dataframe\">\n",
              "  <thead>\n",
              "    <tr style=\"text-align: right;\">\n",
              "      <th></th>\n",
              "      <th>Open</th>\n",
              "      <th>High</th>\n",
              "      <th>Low</th>\n",
              "      <th>Close</th>\n",
              "      <th>Volume</th>\n",
              "      <th>Labels</th>\n",
              "    </tr>\n",
              "  </thead>\n",
              "  <tbody>\n",
              "    <tr>\n",
              "      <th>count</th>\n",
              "      <td>2726.000000</td>\n",
              "      <td>2726.000000</td>\n",
              "      <td>2726.000000</td>\n",
              "      <td>2726.000000</td>\n",
              "      <td>2.726000e+03</td>\n",
              "      <td>2726.000000</td>\n",
              "    </tr>\n",
              "    <tr>\n",
              "      <th>mean</th>\n",
              "      <td>392.630086</td>\n",
              "      <td>392.730145</td>\n",
              "      <td>392.530787</td>\n",
              "      <td>392.631211</td>\n",
              "      <td>2.252074e+05</td>\n",
              "      <td>0.517975</td>\n",
              "    </tr>\n",
              "    <tr>\n",
              "      <th>std</th>\n",
              "      <td>3.117306</td>\n",
              "      <td>3.095557</td>\n",
              "      <td>3.136853</td>\n",
              "      <td>3.118438</td>\n",
              "      <td>3.165707e+05</td>\n",
              "      <td>0.499768</td>\n",
              "    </tr>\n",
              "    <tr>\n",
              "      <th>min</th>\n",
              "      <td>384.069885</td>\n",
              "      <td>384.200012</td>\n",
              "      <td>383.899994</td>\n",
              "      <td>384.065002</td>\n",
              "      <td>2.235700e+04</td>\n",
              "      <td>0.000000</td>\n",
              "    </tr>\n",
              "    <tr>\n",
              "      <th>25%</th>\n",
              "      <td>391.049988</td>\n",
              "      <td>391.179993</td>\n",
              "      <td>390.959991</td>\n",
              "      <td>391.056244</td>\n",
              "      <td>9.706300e+04</td>\n",
              "      <td>0.000000</td>\n",
              "    </tr>\n",
              "    <tr>\n",
              "      <th>50%</th>\n",
              "      <td>392.670959</td>\n",
              "      <td>392.750000</td>\n",
              "      <td>392.595001</td>\n",
              "      <td>392.679443</td>\n",
              "      <td>1.484075e+05</td>\n",
              "      <td>1.000000</td>\n",
              "    </tr>\n",
              "    <tr>\n",
              "      <th>75%</th>\n",
              "      <td>394.727531</td>\n",
              "      <td>394.820007</td>\n",
              "      <td>394.637512</td>\n",
              "      <td>394.725006</td>\n",
              "      <td>2.455840e+05</td>\n",
              "      <td>1.000000</td>\n",
              "    </tr>\n",
              "    <tr>\n",
              "      <th>max</th>\n",
              "      <td>397.980011</td>\n",
              "      <td>398.000000</td>\n",
              "      <td>397.940002</td>\n",
              "      <td>397.970001</td>\n",
              "      <td>7.277114e+06</td>\n",
              "      <td>1.000000</td>\n",
              "    </tr>\n",
              "  </tbody>\n",
              "</table>\n",
              "</div>"
            ],
            "text/plain": [
              "              Open         High  ...        Volume       Labels\n",
              "count  2726.000000  2726.000000  ...  2.726000e+03  2726.000000\n",
              "mean    392.630086   392.730145  ...  2.252074e+05     0.517975\n",
              "std       3.117306     3.095557  ...  3.165707e+05     0.499768\n",
              "min     384.069885   384.200012  ...  2.235700e+04     0.000000\n",
              "25%     391.049988   391.179993  ...  9.706300e+04     0.000000\n",
              "50%     392.670959   392.750000  ...  1.484075e+05     1.000000\n",
              "75%     394.727531   394.820007  ...  2.455840e+05     1.000000\n",
              "max     397.980011   398.000000  ...  7.277114e+06     1.000000\n",
              "\n",
              "[8 rows x 6 columns]"
            ]
          },
          "metadata": {
            "tags": []
          },
          "execution_count": 8
        }
      ]
    },
    {
      "cell_type": "code",
      "metadata": {
        "colab": {
          "base_uri": "https://localhost:8080/"
        },
        "id": "6HLMr2vRvPNH",
        "outputId": "b1b7d216-4fe3-4c62-d157-dae381c32961"
      },
      "source": [
        "df.isnull().any()"
      ],
      "execution_count": 9,
      "outputs": [
        {
          "output_type": "execute_result",
          "data": {
            "text/plain": [
              "Open      False\n",
              "High      False\n",
              "Low       False\n",
              "Close     False\n",
              "Volume    False\n",
              "Labels    False\n",
              "dtype: bool"
            ]
          },
          "metadata": {
            "tags": []
          },
          "execution_count": 9
        }
      ]
    },
    {
      "cell_type": "code",
      "metadata": {
        "colab": {
          "base_uri": "https://localhost:8080/",
          "height": 450
        },
        "id": "jfuQLNqGv0DG",
        "outputId": "ebfaf144-20d3-41f6-b647-c53c2c0b3c71"
      },
      "source": [
        "X = df.loc[:, df.columns!='Labels']\n",
        "X"
      ],
      "execution_count": 10,
      "outputs": [
        {
          "output_type": "execute_result",
          "data": {
            "text/html": [
              "<div>\n",
              "<style scoped>\n",
              "    .dataframe tbody tr th:only-of-type {\n",
              "        vertical-align: middle;\n",
              "    }\n",
              "\n",
              "    .dataframe tbody tr th {\n",
              "        vertical-align: top;\n",
              "    }\n",
              "\n",
              "    .dataframe thead th {\n",
              "        text-align: right;\n",
              "    }\n",
              "</style>\n",
              "<table border=\"1\" class=\"dataframe\">\n",
              "  <thead>\n",
              "    <tr style=\"text-align: right;\">\n",
              "      <th></th>\n",
              "      <th>Open</th>\n",
              "      <th>High</th>\n",
              "      <th>Low</th>\n",
              "      <th>Close</th>\n",
              "      <th>Volume</th>\n",
              "    </tr>\n",
              "    <tr>\n",
              "      <th>Datetime</th>\n",
              "      <th></th>\n",
              "      <th></th>\n",
              "      <th></th>\n",
              "      <th></th>\n",
              "      <th></th>\n",
              "    </tr>\n",
              "  </thead>\n",
              "  <tbody>\n",
              "    <tr>\n",
              "      <th>2021-03-23 09:30:00-04:00</th>\n",
              "      <td>391.910004</td>\n",
              "      <td>391.950012</td>\n",
              "      <td>391.730011</td>\n",
              "      <td>391.755005</td>\n",
              "      <td>1541884</td>\n",
              "    </tr>\n",
              "    <tr>\n",
              "      <th>2021-03-23 09:31:00-04:00</th>\n",
              "      <td>391.760010</td>\n",
              "      <td>391.940002</td>\n",
              "      <td>391.559998</td>\n",
              "      <td>391.850006</td>\n",
              "      <td>334659</td>\n",
              "    </tr>\n",
              "    <tr>\n",
              "      <th>2021-03-23 09:32:00-04:00</th>\n",
              "      <td>391.850006</td>\n",
              "      <td>391.880005</td>\n",
              "      <td>391.630005</td>\n",
              "      <td>391.640015</td>\n",
              "      <td>306343</td>\n",
              "    </tr>\n",
              "    <tr>\n",
              "      <th>2021-03-23 09:33:00-04:00</th>\n",
              "      <td>391.640015</td>\n",
              "      <td>392.000000</td>\n",
              "      <td>391.630005</td>\n",
              "      <td>391.918915</td>\n",
              "      <td>237583</td>\n",
              "    </tr>\n",
              "    <tr>\n",
              "      <th>2021-03-23 09:34:00-04:00</th>\n",
              "      <td>391.915009</td>\n",
              "      <td>391.970001</td>\n",
              "      <td>391.809998</td>\n",
              "      <td>391.880005</td>\n",
              "      <td>155247</td>\n",
              "    </tr>\n",
              "    <tr>\n",
              "      <th>...</th>\n",
              "      <td>...</td>\n",
              "      <td>...</td>\n",
              "      <td>...</td>\n",
              "      <td>...</td>\n",
              "      <td>...</td>\n",
              "    </tr>\n",
              "    <tr>\n",
              "      <th>2021-03-31 15:55:00-04:00</th>\n",
              "      <td>396.690002</td>\n",
              "      <td>396.690002</td>\n",
              "      <td>396.244995</td>\n",
              "      <td>396.369995</td>\n",
              "      <td>2994314</td>\n",
              "    </tr>\n",
              "    <tr>\n",
              "      <th>2021-03-31 15:56:00-04:00</th>\n",
              "      <td>396.369995</td>\n",
              "      <td>396.709991</td>\n",
              "      <td>396.329987</td>\n",
              "      <td>396.559998</td>\n",
              "      <td>2319348</td>\n",
              "    </tr>\n",
              "    <tr>\n",
              "      <th>2021-03-31 15:57:00-04:00</th>\n",
              "      <td>396.549988</td>\n",
              "      <td>396.679993</td>\n",
              "      <td>396.434998</td>\n",
              "      <td>396.540009</td>\n",
              "      <td>2693961</td>\n",
              "    </tr>\n",
              "    <tr>\n",
              "      <th>2021-03-31 15:58:00-04:00</th>\n",
              "      <td>396.535004</td>\n",
              "      <td>396.750000</td>\n",
              "      <td>396.369995</td>\n",
              "      <td>396.730011</td>\n",
              "      <td>3341823</td>\n",
              "    </tr>\n",
              "    <tr>\n",
              "      <th>2021-03-31 15:59:00-04:00</th>\n",
              "      <td>396.739990</td>\n",
              "      <td>396.859985</td>\n",
              "      <td>396.019989</td>\n",
              "      <td>396.260010</td>\n",
              "      <td>7277114</td>\n",
              "    </tr>\n",
              "  </tbody>\n",
              "</table>\n",
              "<p>2726 rows × 5 columns</p>\n",
              "</div>"
            ],
            "text/plain": [
              "                                 Open        High  ...       Close   Volume\n",
              "Datetime                                           ...                     \n",
              "2021-03-23 09:30:00-04:00  391.910004  391.950012  ...  391.755005  1541884\n",
              "2021-03-23 09:31:00-04:00  391.760010  391.940002  ...  391.850006   334659\n",
              "2021-03-23 09:32:00-04:00  391.850006  391.880005  ...  391.640015   306343\n",
              "2021-03-23 09:33:00-04:00  391.640015  392.000000  ...  391.918915   237583\n",
              "2021-03-23 09:34:00-04:00  391.915009  391.970001  ...  391.880005   155247\n",
              "...                               ...         ...  ...         ...      ...\n",
              "2021-03-31 15:55:00-04:00  396.690002  396.690002  ...  396.369995  2994314\n",
              "2021-03-31 15:56:00-04:00  396.369995  396.709991  ...  396.559998  2319348\n",
              "2021-03-31 15:57:00-04:00  396.549988  396.679993  ...  396.540009  2693961\n",
              "2021-03-31 15:58:00-04:00  396.535004  396.750000  ...  396.730011  3341823\n",
              "2021-03-31 15:59:00-04:00  396.739990  396.859985  ...  396.260010  7277114\n",
              "\n",
              "[2726 rows x 5 columns]"
            ]
          },
          "metadata": {
            "tags": []
          },
          "execution_count": 10
        }
      ]
    },
    {
      "cell_type": "code",
      "metadata": {
        "id": "DPrHord7vTUu"
      },
      "source": [
        "X = np.array(X)"
      ],
      "execution_count": 11,
      "outputs": []
    },
    {
      "cell_type": "code",
      "metadata": {
        "colab": {
          "base_uri": "https://localhost:8080/"
        },
        "id": "ZH9Jea0MwqBc",
        "outputId": "bd91091e-6aa1-464b-a200-7c28108456cd"
      },
      "source": [
        "y = np.array(df['Labels'])\n",
        "y"
      ],
      "execution_count": 12,
      "outputs": [
        {
          "output_type": "execute_result",
          "data": {
            "text/plain": [
              "array([1, 0, 1, ..., 1, 0, 0])"
            ]
          },
          "metadata": {
            "tags": []
          },
          "execution_count": 12
        }
      ]
    },
    {
      "cell_type": "markdown",
      "metadata": {
        "id": "wupJqRtHfErF"
      },
      "source": [
        "## **Logistic regression model**"
      ]
    },
    {
      "cell_type": "code",
      "metadata": {
        "id": "V2rrzVcG6H5u"
      },
      "source": [
        "X_train, X_test, y_train, y_test = train_test_split(X, y, test_size=0.2, random_state=0)"
      ],
      "execution_count": 13,
      "outputs": []
    },
    {
      "cell_type": "code",
      "metadata": {
        "colab": {
          "base_uri": "https://localhost:8080/"
        },
        "id": "xpdUhEyk5a0m",
        "outputId": "6a7561f2-02fb-4c08-a60c-ad363ebe9421"
      },
      "source": [
        "model = LogisticRegression( random_state=0)\n",
        "model.fit(X_train, y_train)"
      ],
      "execution_count": 18,
      "outputs": [
        {
          "output_type": "execute_result",
          "data": {
            "text/plain": [
              "LogisticRegression(C=1.0, class_weight=None, dual=False, fit_intercept=True,\n",
              "                   intercept_scaling=1, l1_ratio=None, max_iter=100,\n",
              "                   multi_class='auto', n_jobs=None, penalty='l2',\n",
              "                   random_state=0, solver='lbfgs', tol=0.0001, verbose=0,\n",
              "                   warm_start=False)"
            ]
          },
          "metadata": {
            "tags": []
          },
          "execution_count": 18
        }
      ]
    },
    {
      "cell_type": "code",
      "metadata": {
        "colab": {
          "base_uri": "https://localhost:8080/"
        },
        "id": "l4YvhXhv5k6y",
        "outputId": "682f8032-6cfb-42cd-857c-a0cedc240f8f"
      },
      "source": [
        "model.score(X, y)"
      ],
      "execution_count": 19,
      "outputs": [
        {
          "output_type": "execute_result",
          "data": {
            "text/plain": [
              "0.5179750550256786"
            ]
          },
          "metadata": {
            "tags": []
          },
          "execution_count": 19
        }
      ]
    },
    {
      "cell_type": "code",
      "metadata": {
        "colab": {
          "base_uri": "https://localhost:8080/"
        },
        "id": "d0YtqKPMf130",
        "outputId": "4849c4d0-c836-490b-e845-d4c921aaf3f7"
      },
      "source": [
        "model.score(X_test, y_test)"
      ],
      "execution_count": 20,
      "outputs": [
        {
          "output_type": "execute_result",
          "data": {
            "text/plain": [
              "0.5146520146520146"
            ]
          },
          "metadata": {
            "tags": []
          },
          "execution_count": 20
        }
      ]
    },
    {
      "cell_type": "markdown",
      "metadata": {
        "id": "5c2Jjwwc6fMb"
      },
      "source": [
        "## **Random Froest model**"
      ]
    },
    {
      "cell_type": "code",
      "metadata": {
        "colab": {
          "base_uri": "https://localhost:8080/"
        },
        "id": "MMn_EChMfZJ0",
        "outputId": "e2999a3e-a699-47f4-e93d-d64519930522"
      },
      "source": [
        "from sklearn.ensemble import RandomForestClassifier\n",
        "\n",
        "clf = RandomForestClassifier(max_depth = 3, random_state=0)\n",
        "clf.fit(X_train, y_train)\n"
      ],
      "execution_count": 17,
      "outputs": [
        {
          "output_type": "execute_result",
          "data": {
            "text/plain": [
              "RandomForestClassifier(bootstrap=True, ccp_alpha=0.0, class_weight=None,\n",
              "                       criterion='gini', max_depth=3, max_features='auto',\n",
              "                       max_leaf_nodes=None, max_samples=None,\n",
              "                       min_impurity_decrease=0.0, min_impurity_split=None,\n",
              "                       min_samples_leaf=1, min_samples_split=2,\n",
              "                       min_weight_fraction_leaf=0.0, n_estimators=100,\n",
              "                       n_jobs=None, oob_score=False, random_state=0, verbose=0,\n",
              "                       warm_start=False)"
            ]
          },
          "metadata": {
            "tags": []
          },
          "execution_count": 17
        }
      ]
    },
    {
      "cell_type": "code",
      "metadata": {
        "colab": {
          "base_uri": "https://localhost:8080/"
        },
        "id": "PyCWGToLgCPk",
        "outputId": "7cf5677d-3802-47ec-ed59-55e1953bd1b6"
      },
      "source": [
        "clf.score(X_train, y_train)"
      ],
      "execution_count": 24,
      "outputs": [
        {
          "output_type": "execute_result",
          "data": {
            "text/plain": [
              "0.5637614678899082"
            ]
          },
          "metadata": {
            "tags": []
          },
          "execution_count": 24
        }
      ]
    },
    {
      "cell_type": "code",
      "metadata": {
        "colab": {
          "base_uri": "https://localhost:8080/"
        },
        "id": "bN5EJg1LfsnY",
        "outputId": "63b9a247-0974-4a87-ddb2-c14ebfac2e29"
      },
      "source": [
        "clf.score(X_test, y_test)"
      ],
      "execution_count": 23,
      "outputs": [
        {
          "output_type": "execute_result",
          "data": {
            "text/plain": [
              "0.5164835164835165"
            ]
          },
          "metadata": {
            "tags": []
          },
          "execution_count": 23
        }
      ]
    },
    {
      "cell_type": "markdown",
      "metadata": {
        "id": "aW3ztGb-f7FB"
      },
      "source": [
        "## **K-Nearest Neighbors Classifier**"
      ]
    },
    {
      "cell_type": "code",
      "metadata": {
        "colab": {
          "base_uri": "https://localhost:8080/"
        },
        "id": "rXOJwVXigZIt",
        "outputId": "1b8f791e-dbfe-4c17-b18a-c6a1b1ca6306"
      },
      "source": [
        "from sklearn.neighbors import KNeighborsClassifier\n",
        "knn = KNeighborsClassifier(n_neighbors = 3)\n",
        "knn.fit(X_train, y_train)\n"
      ],
      "execution_count": 25,
      "outputs": [
        {
          "output_type": "execute_result",
          "data": {
            "text/plain": [
              "KNeighborsClassifier(algorithm='auto', leaf_size=30, metric='minkowski',\n",
              "                     metric_params=None, n_jobs=None, n_neighbors=3, p=2,\n",
              "                     weights='uniform')"
            ]
          },
          "metadata": {
            "tags": []
          },
          "execution_count": 25
        }
      ]
    },
    {
      "cell_type": "code",
      "metadata": {
        "colab": {
          "base_uri": "https://localhost:8080/"
        },
        "id": "Q1LtbH_oglLg",
        "outputId": "27e02c5d-d4b9-4c6b-d193-018b1e0d37f1"
      },
      "source": [
        "knn.score(X,y)"
      ],
      "execution_count": 26,
      "outputs": [
        {
          "output_type": "execute_result",
          "data": {
            "text/plain": [
              "0.7002934702861335"
            ]
          },
          "metadata": {
            "tags": []
          },
          "execution_count": 26
        }
      ]
    },
    {
      "cell_type": "code",
      "metadata": {
        "colab": {
          "base_uri": "https://localhost:8080/"
        },
        "id": "j-i6VRCpgmg3",
        "outputId": "4706baeb-569d-4d88-ccbb-fae08cb5e1b9"
      },
      "source": [
        "knn.score(X_test, y_test)"
      ],
      "execution_count": 27,
      "outputs": [
        {
          "output_type": "execute_result",
          "data": {
            "text/plain": [
              "0.5073260073260073"
            ]
          },
          "metadata": {
            "tags": []
          },
          "execution_count": 27
        }
      ]
    },
    {
      "cell_type": "code",
      "metadata": {
        "id": "YiAACow5gvpB"
      },
      "source": [
        ""
      ],
      "execution_count": null,
      "outputs": []
    }
  ]
}